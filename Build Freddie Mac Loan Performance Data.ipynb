{
 "cells": [
  {
   "cell_type": "code",
   "execution_count": 1,
   "metadata": {},
   "outputs": [],
   "source": [
    "import pandas as pd\n",
    "import numpy as np\n",
    "import gc"
   ]
  },
  {
   "cell_type": "code",
   "execution_count": 2,
   "metadata": {},
   "outputs": [],
   "source": [
    "def read_file(filename):\n",
    "    print(\"reading \"+filename)\n",
    "    df = pd.read_csv(filename,error_bad_lines=False, sep=\"|\", header=None)\n",
    "    return df"
   ]
  },
  {
   "cell_type": "code",
   "execution_count": 3,
   "metadata": {},
   "outputs": [],
   "source": [
    "#data dictionary for loan level data file and loan performance data\n",
    "freddie_mac_loan_level_dataset_columns=['Credit_Score',\n",
    "'First Payment Date',\n",
    "'First Time Homebuyer',\n",
    "'Maturity Date',\n",
    "'MSA',\n",
    "'Mortage Percentage %',\n",
    "'Number of Units',\n",
    "'Occupancy Status',\n",
    "'Original Combined LTV',\n",
    "'Original DTI',\n",
    "'Mortgate amount(UPB)',\n",
    "'Original LTV',\n",
    "'Original Interest Rate',\n",
    "'Channel',\n",
    "'PPM',\n",
    "'Product Type',\n",
    "'Property State',\n",
    "'Property Type',\n",
    "'Postal Code',\n",
    "'Loan Sequence Number',\n",
    "'Loan Purpose',\n",
    "'Original Loan Term',\n",
    "'Number of Borrowers',\n",
    "'Seller Name',\n",
    "'Sevicer Name',\n",
    "'Super Conforming Flag',\n",
    "'Pre Harp Sequence Number',\n",
    "'Program Indicator',\n",
    "'HARP Indicator',\n",
    "'Property Valuation Method']\n",
    "\n",
    "freddiemac_loan_performance_dataset_columns=[\n",
    "   'Loan Sequence Number',\n",
    "    'Monthly Reporting Period',\n",
    "    'Current Actual UPB',\n",
    "    'Current Loan Delinquency Status',\n",
    "    'Loan Age',\n",
    "    'Remaining Months to Legal Maturity',\n",
    "    'Repurchase Flag',\n",
    "    'Modification Flag',\n",
    "    'Zero Balance Code',\n",
    "    'Zero Balance Effective Date',\n",
    "    'Current Interest Rate',\n",
    "    'Current Deferred UPB',\n",
    "    'Due Date of Last Paid Installment',\n",
    "    'MI Recoveries',\n",
    "    'Net Sales Proceeds',\n",
    "    'Non MI Recoveries',\n",
    "    'Expenses',\n",
    "    'Legal Costs',\n",
    "    'Maintenance and Preservation Costs',\n",
    "    'Taxes and Insurance',\n",
    "    'Miscellaneous Expenses',\n",
    "    'Actual Loss Calculation',\n",
    "    'Modification Cost',\n",
    "    'Step Modification Flag',\n",
    "    'Deferred Payment Plan',\n",
    "    'Estimated Loan to Value(ELTV)',\n",
    "    'Zero Balance Removal UPB',\n",
    "    'Delinquent Accrued Interest',\n",
    "    'Delinquency Due to Disaster',\n",
    "    'Borrower Assistance Status Code'\n",
    "    \n",
    "]"
   ]
  },
  {
   "cell_type": "code",
   "execution_count": 4,
   "metadata": {},
   "outputs": [
    {
     "name": "stdout",
     "output_type": "stream",
     "text": [
      "reading ./freddie_mac/historical_data1_Q12020.txt\n",
      "reading ./freddie_mac/historical_data1_Q12019.txt\n"
     ]
    },
    {
     "name": "stderr",
     "output_type": "stream",
     "text": [
      "/Users/chitrasharathchandra/opt/anaconda3/lib/python3.8/site-packages/IPython/core/interactiveshell.py:3338: DtypeWarning: Columns (26,28) have mixed types.Specify dtype option on import or set low_memory=False.\n",
      "  if (await self.run_code(code, result,  async_=asy)):\n"
     ]
    },
    {
     "name": "stdout",
     "output_type": "stream",
     "text": [
      "reading ./freddie_mac/historical_data1_Q22019.txt\n",
      "reading ./freddie_mac/historical_data1_Q32019.txt\n",
      "reading ./freddie_mac/historical_data1_Q42019.txt\n",
      "reading ./freddie_mac/historical_data1_Q12018.txt\n"
     ]
    },
    {
     "name": "stderr",
     "output_type": "stream",
     "text": [
      "/Users/chitrasharathchandra/opt/anaconda3/lib/python3.8/site-packages/IPython/core/interactiveshell.py:3338: DtypeWarning: Columns (26,27,28) have mixed types.Specify dtype option on import or set low_memory=False.\n",
      "  if (await self.run_code(code, result,  async_=asy)):\n"
     ]
    },
    {
     "name": "stdout",
     "output_type": "stream",
     "text": [
      "reading ./freddie_mac/historical_data1_Q22018.txt\n",
      "reading ./freddie_mac/historical_data1_Q32018.txt\n",
      "reading ./freddie_mac/historical_data1_Q42018.txt\n",
      "reading ./freddie_mac/historical_data1_Q12017.txt\n",
      "reading ./freddie_mac/historical_data1_Q22017.txt\n",
      "reading ./freddie_mac/historical_data1_Q32017.txt\n",
      "reading ./freddie_mac/historical_data1_Q42017.txt\n",
      "reading ./freddie_mac/historical_data1_Q12016.txt\n",
      "reading ./freddie_mac/historical_data1_Q22016.txt\n"
     ]
    },
    {
     "name": "stderr",
     "output_type": "stream",
     "text": [
      "/Users/chitrasharathchandra/opt/anaconda3/lib/python3.8/site-packages/IPython/core/interactiveshell.py:3338: DtypeWarning: Columns (25,26,27,28) have mixed types.Specify dtype option on import or set low_memory=False.\n",
      "  if (await self.run_code(code, result,  async_=asy)):\n"
     ]
    },
    {
     "name": "stdout",
     "output_type": "stream",
     "text": [
      "reading ./freddie_mac/historical_data1_Q32016.txt\n",
      "reading ./freddie_mac/historical_data1_Q42016.txt\n",
      "reading ./freddie_mac/historical_data1_Q12015.txt\n",
      "reading ./freddie_mac/historical_data1_Q22015.txt\n",
      "reading ./freddie_mac/historical_data1_Q32015.txt\n",
      "reading ./freddie_mac/historical_data1_Q42015.txt\n",
      "reading ./freddie_mac/historical_data1_Q12014.txt\n"
     ]
    },
    {
     "name": "stderr",
     "output_type": "stream",
     "text": [
      "/Users/chitrasharathchandra/opt/anaconda3/lib/python3.8/site-packages/IPython/core/interactiveshell.py:3338: DtypeWarning: Columns (2,26,28) have mixed types.Specify dtype option on import or set low_memory=False.\n",
      "  if (await self.run_code(code, result,  async_=asy)):\n"
     ]
    },
    {
     "name": "stdout",
     "output_type": "stream",
     "text": [
      "reading ./freddie_mac/historical_data1_Q22014.txt\n",
      "reading ./freddie_mac/historical_data1_Q32014.txt\n",
      "reading ./freddie_mac/historical_data1_Q42014.txt\n"
     ]
    }
   ],
   "source": [
    "#read loan level data\n",
    "freddiemac_loan_data_2014_to_2019=pd.concat([\n",
    "read_file(\"./freddie_mac/historical_data1_Q12020.txt\"),    \n",
    "read_file(\"./freddie_mac/historical_data1_Q12019.txt\"),\n",
    "read_file(\"./freddie_mac/historical_data1_Q22019.txt\"),\n",
    "read_file(\"./freddie_mac/historical_data1_Q32019.txt\"),\n",
    "read_file(\"./freddie_mac/historical_data1_Q42019.txt\"),\n",
    "read_file(\"./freddie_mac/historical_data1_Q12018.txt\"),\n",
    "read_file(\"./freddie_mac/historical_data1_Q22018.txt\"),\n",
    "read_file(\"./freddie_mac/historical_data1_Q32018.txt\"),\n",
    "read_file(\"./freddie_mac/historical_data1_Q42018.txt\"),\n",
    "read_file(\"./freddie_mac/historical_data1_Q12017.txt\"),\n",
    "read_file(\"./freddie_mac/historical_data1_Q22017.txt\"),\n",
    "read_file(\"./freddie_mac/historical_data1_Q32017.txt\"),\n",
    "read_file(\"./freddie_mac/historical_data1_Q42017.txt\"),\n",
    "read_file(\"./freddie_mac/historical_data1_Q12016.txt\"),\n",
    "read_file(\"./freddie_mac/historical_data1_Q22016.txt\"),\n",
    "read_file(\"./freddie_mac/historical_data1_Q32016.txt\"),\n",
    "read_file(\"./freddie_mac/historical_data1_Q42016.txt\"),\n",
    "read_file(\"./freddie_mac/historical_data1_Q12015.txt\"),\n",
    "read_file(\"./freddie_mac/historical_data1_Q22015.txt\"),\n",
    "read_file(\"./freddie_mac/historical_data1_Q32015.txt\"),\n",
    "read_file(\"./freddie_mac/historical_data1_Q42015.txt\"),\n",
    "read_file(\"./freddie_mac/historical_data1_Q12014.txt\"),\n",
    "read_file(\"./freddie_mac/historical_data1_Q22014.txt\"),\n",
    "read_file(\"./freddie_mac/historical_data1_Q32014.txt\"),\n",
    "read_file(\"./freddie_mac/historical_data1_Q42014.txt\")    \n",
    "       ])\n",
    "freddiemac_loan_data_2014_to_2019.columns=freddie_mac_loan_level_dataset_columns"
   ]
  },
  {
   "cell_type": "code",
   "execution_count": 5,
   "metadata": {},
   "outputs": [],
   "source": [
    "def getMSAAndPostalCodeForCity(city,state):\n",
    "    #this code needs to be replaced by crosswalk code\n",
    "    if city==\"Phoenix\" and state==\"AZ\":\n",
    "        return (38060, [85100, 85300, 85200, 85000, 85700, 85600, 85500])\n",
    "    pass\n",
    "\n",
    "def get_loans_by_MSA_PostalCode(df,msa,postalcodes=[]):\n",
    "    print(msa,postalcodes)\n",
    "    newdf= df[(df['MSA']==msa) | (df['Postal Code'].isin(postalcodes))]\n",
    "    newdf.loc[:,'MSA']=msa\n",
    "    return newdf"
   ]
  },
  {
   "cell_type": "code",
   "execution_count": 6,
   "metadata": {},
   "outputs": [
    {
     "name": "stdout",
     "output_type": "stream",
     "text": [
      "38060 [85100, 85300, 85200, 85000, 85700, 85600, 85500]\n"
     ]
    },
    {
     "name": "stderr",
     "output_type": "stream",
     "text": [
      "/Users/chitrasharathchandra/opt/anaconda3/lib/python3.8/site-packages/pandas/core/indexing.py:1765: SettingWithCopyWarning: \n",
      "A value is trying to be set on a copy of a slice from a DataFrame.\n",
      "Try using .loc[row_indexer,col_indexer] = value instead\n",
      "\n",
      "See the caveats in the documentation: https://pandas.pydata.org/pandas-docs/stable/user_guide/indexing.html#returning-a-view-versus-a-copy\n",
      "  isetter(loc, value)\n"
     ]
    },
    {
     "data": {
      "text/plain": [
       "192"
      ]
     },
     "execution_count": 6,
     "metadata": {},
     "output_type": "execute_result"
    }
   ],
   "source": [
    "#Select all loans for selected cities\n",
    "\n",
    "cities=['Phoenix,AZ']\n",
    "\n",
    "loanDataDF=pd.DataFrame()\n",
    "\n",
    "for city in cities:\n",
    "    cityname=city.split(\",\")[0]\n",
    "    state=city.split(\",\")[1]\n",
    "    msa, postalcodes= getMSAAndPostalCodeForCity(cityname,state)\n",
    "    cityLoanDF=get_loans_by_MSA_PostalCode(freddiemac_loan_data_2014_to_2019,msa,postalcodes)\n",
    "    if loanDataDF.empty:\n",
    "        loanDataDF=cityLoanDF\n",
    "    else:\n",
    "        loanDataDF.concat([cityLoanDF])\n",
    "\n",
    "#remove this once city level data is retrieved\n",
    "freddiemac_loan_data__2014_to_2019=pd.DataFrame()\n",
    "gc.collect()"
   ]
  },
  {
   "cell_type": "code",
   "execution_count": 7,
   "metadata": {},
   "outputs": [
    {
     "data": {
      "text/html": [
       "<div>\n",
       "<style scoped>\n",
       "    .dataframe tbody tr th:only-of-type {\n",
       "        vertical-align: middle;\n",
       "    }\n",
       "\n",
       "    .dataframe tbody tr th {\n",
       "        vertical-align: top;\n",
       "    }\n",
       "\n",
       "    .dataframe thead th {\n",
       "        text-align: right;\n",
       "    }\n",
       "</style>\n",
       "<table border=\"1\" class=\"dataframe\">\n",
       "  <thead>\n",
       "    <tr style=\"text-align: right;\">\n",
       "      <th></th>\n",
       "      <th>Credit_Score</th>\n",
       "      <th>First Payment Date</th>\n",
       "      <th>First Time Homebuyer</th>\n",
       "      <th>Maturity Date</th>\n",
       "      <th>MSA</th>\n",
       "      <th>Mortage Percentage %</th>\n",
       "      <th>Number of Units</th>\n",
       "      <th>Occupancy Status</th>\n",
       "      <th>Original Combined LTV</th>\n",
       "      <th>Original DTI</th>\n",
       "      <th>...</th>\n",
       "      <th>Loan Purpose</th>\n",
       "      <th>Original Loan Term</th>\n",
       "      <th>Number of Borrowers</th>\n",
       "      <th>Seller Name</th>\n",
       "      <th>Sevicer Name</th>\n",
       "      <th>Super Conforming Flag</th>\n",
       "      <th>Pre Harp Sequence Number</th>\n",
       "      <th>Program Indicator</th>\n",
       "      <th>HARP Indicator</th>\n",
       "      <th>Property Valuation Method</th>\n",
       "    </tr>\n",
       "  </thead>\n",
       "  <tbody>\n",
       "    <tr>\n",
       "      <th>517</th>\n",
       "      <td>804</td>\n",
       "      <td>202003</td>\n",
       "      <td>9</td>\n",
       "      <td>205002</td>\n",
       "      <td>38060</td>\n",
       "      <td>0</td>\n",
       "      <td>1</td>\n",
       "      <td>S</td>\n",
       "      <td>80</td>\n",
       "      <td>43</td>\n",
       "      <td>...</td>\n",
       "      <td>P</td>\n",
       "      <td>360</td>\n",
       "      <td>1</td>\n",
       "      <td>Other sellers</td>\n",
       "      <td>Other servicers</td>\n",
       "      <td>NaN</td>\n",
       "      <td>NaN</td>\n",
       "      <td>9</td>\n",
       "      <td>NaN</td>\n",
       "      <td>2</td>\n",
       "    </tr>\n",
       "    <tr>\n",
       "      <th>632</th>\n",
       "      <td>768</td>\n",
       "      <td>202003</td>\n",
       "      <td>9</td>\n",
       "      <td>204002</td>\n",
       "      <td>38060</td>\n",
       "      <td>0</td>\n",
       "      <td>1</td>\n",
       "      <td>P</td>\n",
       "      <td>70</td>\n",
       "      <td>11</td>\n",
       "      <td>...</td>\n",
       "      <td>N</td>\n",
       "      <td>240</td>\n",
       "      <td>2</td>\n",
       "      <td>Other sellers</td>\n",
       "      <td>Other servicers</td>\n",
       "      <td>NaN</td>\n",
       "      <td>NaN</td>\n",
       "      <td>9</td>\n",
       "      <td>NaN</td>\n",
       "      <td>1</td>\n",
       "    </tr>\n",
       "    <tr>\n",
       "      <th>743</th>\n",
       "      <td>798</td>\n",
       "      <td>202002</td>\n",
       "      <td>9</td>\n",
       "      <td>204810</td>\n",
       "      <td>38060</td>\n",
       "      <td>0</td>\n",
       "      <td>1</td>\n",
       "      <td>S</td>\n",
       "      <td>68</td>\n",
       "      <td>43</td>\n",
       "      <td>...</td>\n",
       "      <td>N</td>\n",
       "      <td>345</td>\n",
       "      <td>2</td>\n",
       "      <td>Other sellers</td>\n",
       "      <td>Other servicers</td>\n",
       "      <td>NaN</td>\n",
       "      <td>NaN</td>\n",
       "      <td>9</td>\n",
       "      <td>NaN</td>\n",
       "      <td>1</td>\n",
       "    </tr>\n",
       "    <tr>\n",
       "      <th>957</th>\n",
       "      <td>816</td>\n",
       "      <td>202004</td>\n",
       "      <td>9</td>\n",
       "      <td>205003</td>\n",
       "      <td>38060</td>\n",
       "      <td>0</td>\n",
       "      <td>1</td>\n",
       "      <td>P</td>\n",
       "      <td>61</td>\n",
       "      <td>24</td>\n",
       "      <td>...</td>\n",
       "      <td>N</td>\n",
       "      <td>360</td>\n",
       "      <td>2</td>\n",
       "      <td>Other sellers</td>\n",
       "      <td>Other servicers</td>\n",
       "      <td>NaN</td>\n",
       "      <td>NaN</td>\n",
       "      <td>9</td>\n",
       "      <td>NaN</td>\n",
       "      <td>2</td>\n",
       "    </tr>\n",
       "    <tr>\n",
       "      <th>1161</th>\n",
       "      <td>767</td>\n",
       "      <td>202004</td>\n",
       "      <td>9</td>\n",
       "      <td>204003</td>\n",
       "      <td>38060</td>\n",
       "      <td>0</td>\n",
       "      <td>1</td>\n",
       "      <td>P</td>\n",
       "      <td>80</td>\n",
       "      <td>48</td>\n",
       "      <td>...</td>\n",
       "      <td>C</td>\n",
       "      <td>240</td>\n",
       "      <td>2</td>\n",
       "      <td>Other sellers</td>\n",
       "      <td>Other servicers</td>\n",
       "      <td>NaN</td>\n",
       "      <td>NaN</td>\n",
       "      <td>9</td>\n",
       "      <td>NaN</td>\n",
       "      <td>2</td>\n",
       "    </tr>\n",
       "  </tbody>\n",
       "</table>\n",
       "<p>5 rows × 30 columns</p>\n",
       "</div>"
      ],
      "text/plain": [
       "      Credit_Score  First Payment Date First Time Homebuyer  Maturity Date  \\\n",
       "517            804              202003                    9         205002   \n",
       "632            768              202003                    9         204002   \n",
       "743            798              202002                    9         204810   \n",
       "957            816              202004                    9         205003   \n",
       "1161           767              202004                    9         204003   \n",
       "\n",
       "        MSA  Mortage Percentage %  Number of Units Occupancy Status  \\\n",
       "517   38060                     0                1                S   \n",
       "632   38060                     0                1                P   \n",
       "743   38060                     0                1                S   \n",
       "957   38060                     0                1                P   \n",
       "1161  38060                     0                1                P   \n",
       "\n",
       "      Original Combined LTV  Original DTI  ...  Loan Purpose  \\\n",
       "517                      80            43  ...             P   \n",
       "632                      70            11  ...             N   \n",
       "743                      68            43  ...             N   \n",
       "957                      61            24  ...             N   \n",
       "1161                     80            48  ...             C   \n",
       "\n",
       "      Original Loan Term  Number of Borrowers    Seller Name     Sevicer Name  \\\n",
       "517                  360                    1  Other sellers  Other servicers   \n",
       "632                  240                    2  Other sellers  Other servicers   \n",
       "743                  345                    2  Other sellers  Other servicers   \n",
       "957                  360                    2  Other sellers  Other servicers   \n",
       "1161                 240                    2  Other sellers  Other servicers   \n",
       "\n",
       "     Super Conforming Flag Pre Harp Sequence Number Program Indicator  \\\n",
       "517                    NaN                      NaN                 9   \n",
       "632                    NaN                      NaN                 9   \n",
       "743                    NaN                      NaN                 9   \n",
       "957                    NaN                      NaN                 9   \n",
       "1161                   NaN                      NaN                 9   \n",
       "\n",
       "      HARP Indicator Property Valuation Method  \n",
       "517              NaN                         2  \n",
       "632              NaN                         1  \n",
       "743              NaN                         1  \n",
       "957              NaN                         2  \n",
       "1161             NaN                         2  \n",
       "\n",
       "[5 rows x 30 columns]"
      ]
     },
     "execution_count": 7,
     "metadata": {},
     "output_type": "execute_result"
    }
   ],
   "source": [
    "loanDataDF.head()"
   ]
  },
  {
   "cell_type": "code",
   "execution_count": 8,
   "metadata": {},
   "outputs": [
    {
     "name": "stdout",
     "output_type": "stream",
     "text": [
      "reading ./freddie_mac/historical_data1_time_Q12015.txt\n"
     ]
    },
    {
     "name": "stderr",
     "output_type": "stream",
     "text": [
      "/Users/chitrasharathchandra/opt/anaconda3/lib/python3.8/site-packages/IPython/core/interactiveshell.py:3338: DtypeWarning: Columns (3,7,23,24) have mixed types.Specify dtype option on import or set low_memory=False.\n",
      "  if (await self.run_code(code, result,  async_=asy)):\n"
     ]
    },
    {
     "name": "stdout",
     "output_type": "stream",
     "text": [
      "reading ./freddie_mac/historical_data1_time_Q22015.txt\n",
      "reading ./freddie_mac/historical_data1_time_Q32015.txt\n",
      "reading ./freddie_mac/historical_data1_time_Q42015.txt\n"
     ]
    },
    {
     "data": {
      "text/plain": [
       "0"
      ]
     },
     "execution_count": 8,
     "metadata": {},
     "output_type": "execute_result"
    }
   ],
   "source": [
    "#read one year at a time since this data is large\n",
    "freddiemac_loan_performance_2015=pd.concat([read_file(\"./freddie_mac/historical_data1_time_Q12015.txt\"),\n",
    "                                              read_file(\"./freddie_mac/historical_data1_time_Q22015.txt\"),\n",
    "                                              read_file(\"./freddie_mac/historical_data1_time_Q32015.txt\"),\n",
    "                                              read_file(\"./freddie_mac/historical_data1_time_Q42015.txt\")])\n",
    "freddiemac_loan_performance_2015.columns=freddiemac_loan_performance_dataset_columns\n",
    "\n",
    "loan_perf_2015=pd.merge(loanDataDF,freddiemac_loan_performance_2015,on=\"Loan Sequence Number\" )\n",
    "loan_perf_2015[\"Postal Code\"]=loan_perf_2015[\"Postal Code\"].astype(int).astype(str)\n",
    "\n",
    "freddiemac_loan_performance_2015=pd.DataFrame()\n",
    "gc.collect()"
   ]
  },
  {
   "cell_type": "code",
   "execution_count": 9,
   "metadata": {},
   "outputs": [],
   "source": [
    "loan_perf_2015.to_csv(\"loan_perf_2015.csv\")"
   ]
  },
  {
   "cell_type": "code",
   "execution_count": 9,
   "metadata": {},
   "outputs": [
    {
     "data": {
      "text/plain": [
       "20"
      ]
     },
     "execution_count": 9,
     "metadata": {},
     "output_type": "execute_result"
    }
   ],
   "source": [
    "loan_perf_2016=pd.DataFrame()\n",
    "gc.collect()"
   ]
  },
  {
   "cell_type": "code",
   "execution_count": 7,
   "metadata": {},
   "outputs": [
    {
     "name": "stdout",
     "output_type": "stream",
     "text": [
      "reading ./freddie_mac/historical_data1_time_Q12016.txt\n"
     ]
    },
    {
     "name": "stderr",
     "output_type": "stream",
     "text": [
      "/Users/chitrasharathchandra/opt/anaconda3/lib/python3.8/site-packages/IPython/core/interactiveshell.py:3338: DtypeWarning: Columns (3,7,23,24) have mixed types.Specify dtype option on import or set low_memory=False.\n",
      "  if (await self.run_code(code, result,  async_=asy)):\n"
     ]
    },
    {
     "name": "stdout",
     "output_type": "stream",
     "text": [
      "reading ./freddie_mac/historical_data1_time_Q22016.txt\n",
      "reading ./freddie_mac/historical_data1_time_Q32016.txt\n",
      "reading ./freddie_mac/historical_data1_time_Q42016.txt\n"
     ]
    }
   ],
   "source": [
    "freddiemac_loan_performance_2016=pd.concat([read_file(\"./freddie_mac/historical_data1_time_Q12016.txt\"),\n",
    "                                              read_file(\"./freddie_mac/historical_data1_time_Q22016.txt\"),\n",
    "                                              read_file(\"./freddie_mac/historical_data1_time_Q32016.txt\"),\n",
    "                                              read_file(\"./freddie_mac/historical_data1_time_Q42016.txt\")])\n",
    "freddiemac_loan_performance_2016.columns=freddiemac_loan_performance_dataset_columns\n",
    "\n",
    "loan_perf_2016=pd.merge(loanDataDF,freddiemac_loan_performance_2016,on=\"Loan Sequence Number\" )\n",
    "loan_perf_2016[\"Postal Code\"]=loan_perf_2016[\"Postal Code\"].astype(int).astype(str)\n",
    "\n",
    "\n",
    "freddiemac_loan_performance_2016=pd.DataFrame()\n",
    "gc.collect()\n",
    "loan_perf_2016.to_csv(\"loan_perf_2016.csv\")"
   ]
  },
  {
   "cell_type": "code",
   "execution_count": 8,
   "metadata": {},
   "outputs": [
    {
     "data": {
      "text/html": [
       "<div>\n",
       "<style scoped>\n",
       "    .dataframe tbody tr th:only-of-type {\n",
       "        vertical-align: middle;\n",
       "    }\n",
       "\n",
       "    .dataframe tbody tr th {\n",
       "        vertical-align: top;\n",
       "    }\n",
       "\n",
       "    .dataframe thead th {\n",
       "        text-align: right;\n",
       "    }\n",
       "</style>\n",
       "<table border=\"1\" class=\"dataframe\">\n",
       "  <thead>\n",
       "    <tr style=\"text-align: right;\">\n",
       "      <th></th>\n",
       "      <th>Credit_Score</th>\n",
       "      <th>First Payment Date</th>\n",
       "      <th>First Time Homebuyer</th>\n",
       "      <th>Maturity Date</th>\n",
       "      <th>MSA</th>\n",
       "      <th>Mortage Percentage %</th>\n",
       "      <th>Number of Units</th>\n",
       "      <th>Occupancy Status</th>\n",
       "      <th>Original Combined LTV</th>\n",
       "      <th>Original DTI</th>\n",
       "      <th>...</th>\n",
       "      <th>Miscellaneous Expenses</th>\n",
       "      <th>Actual Loss Calculation</th>\n",
       "      <th>Modification Cost</th>\n",
       "      <th>Step Modification Flag</th>\n",
       "      <th>Deferred Payment Plan</th>\n",
       "      <th>Estimated Loan to Value(ELTV)</th>\n",
       "      <th>Zero Balance Removal UPB</th>\n",
       "      <th>Delinquent Accrued Interest</th>\n",
       "      <th>Delinquency Due to Disaster</th>\n",
       "      <th>Borrower Assistance Status Code</th>\n",
       "    </tr>\n",
       "  </thead>\n",
       "  <tbody>\n",
       "    <tr>\n",
       "      <th>0</th>\n",
       "      <td>788</td>\n",
       "      <td>201603</td>\n",
       "      <td>9</td>\n",
       "      <td>204602</td>\n",
       "      <td>38060</td>\n",
       "      <td>0</td>\n",
       "      <td>1</td>\n",
       "      <td>S</td>\n",
       "      <td>75</td>\n",
       "      <td>29</td>\n",
       "      <td>...</td>\n",
       "      <td>NaN</td>\n",
       "      <td>NaN</td>\n",
       "      <td>NaN</td>\n",
       "      <td>NaN</td>\n",
       "      <td>NaN</td>\n",
       "      <td>NaN</td>\n",
       "      <td>NaN</td>\n",
       "      <td>NaN</td>\n",
       "      <td>NaN</td>\n",
       "      <td>NaN</td>\n",
       "    </tr>\n",
       "    <tr>\n",
       "      <th>1</th>\n",
       "      <td>788</td>\n",
       "      <td>201603</td>\n",
       "      <td>9</td>\n",
       "      <td>204602</td>\n",
       "      <td>38060</td>\n",
       "      <td>0</td>\n",
       "      <td>1</td>\n",
       "      <td>S</td>\n",
       "      <td>75</td>\n",
       "      <td>29</td>\n",
       "      <td>...</td>\n",
       "      <td>NaN</td>\n",
       "      <td>NaN</td>\n",
       "      <td>NaN</td>\n",
       "      <td>NaN</td>\n",
       "      <td>NaN</td>\n",
       "      <td>NaN</td>\n",
       "      <td>NaN</td>\n",
       "      <td>NaN</td>\n",
       "      <td>NaN</td>\n",
       "      <td>NaN</td>\n",
       "    </tr>\n",
       "    <tr>\n",
       "      <th>2</th>\n",
       "      <td>788</td>\n",
       "      <td>201603</td>\n",
       "      <td>9</td>\n",
       "      <td>204602</td>\n",
       "      <td>38060</td>\n",
       "      <td>0</td>\n",
       "      <td>1</td>\n",
       "      <td>S</td>\n",
       "      <td>75</td>\n",
       "      <td>29</td>\n",
       "      <td>...</td>\n",
       "      <td>NaN</td>\n",
       "      <td>NaN</td>\n",
       "      <td>NaN</td>\n",
       "      <td>NaN</td>\n",
       "      <td>NaN</td>\n",
       "      <td>NaN</td>\n",
       "      <td>NaN</td>\n",
       "      <td>NaN</td>\n",
       "      <td>NaN</td>\n",
       "      <td>NaN</td>\n",
       "    </tr>\n",
       "    <tr>\n",
       "      <th>3</th>\n",
       "      <td>788</td>\n",
       "      <td>201603</td>\n",
       "      <td>9</td>\n",
       "      <td>204602</td>\n",
       "      <td>38060</td>\n",
       "      <td>0</td>\n",
       "      <td>1</td>\n",
       "      <td>S</td>\n",
       "      <td>75</td>\n",
       "      <td>29</td>\n",
       "      <td>...</td>\n",
       "      <td>NaN</td>\n",
       "      <td>NaN</td>\n",
       "      <td>NaN</td>\n",
       "      <td>NaN</td>\n",
       "      <td>NaN</td>\n",
       "      <td>NaN</td>\n",
       "      <td>NaN</td>\n",
       "      <td>NaN</td>\n",
       "      <td>NaN</td>\n",
       "      <td>NaN</td>\n",
       "    </tr>\n",
       "    <tr>\n",
       "      <th>4</th>\n",
       "      <td>788</td>\n",
       "      <td>201603</td>\n",
       "      <td>9</td>\n",
       "      <td>204602</td>\n",
       "      <td>38060</td>\n",
       "      <td>0</td>\n",
       "      <td>1</td>\n",
       "      <td>S</td>\n",
       "      <td>75</td>\n",
       "      <td>29</td>\n",
       "      <td>...</td>\n",
       "      <td>NaN</td>\n",
       "      <td>NaN</td>\n",
       "      <td>NaN</td>\n",
       "      <td>NaN</td>\n",
       "      <td>NaN</td>\n",
       "      <td>NaN</td>\n",
       "      <td>NaN</td>\n",
       "      <td>NaN</td>\n",
       "      <td>NaN</td>\n",
       "      <td>NaN</td>\n",
       "    </tr>\n",
       "  </tbody>\n",
       "</table>\n",
       "<p>5 rows × 59 columns</p>\n",
       "</div>"
      ],
      "text/plain": [
       "   Credit_Score  First Payment Date First Time Homebuyer  Maturity Date  \\\n",
       "0           788              201603                    9         204602   \n",
       "1           788              201603                    9         204602   \n",
       "2           788              201603                    9         204602   \n",
       "3           788              201603                    9         204602   \n",
       "4           788              201603                    9         204602   \n",
       "\n",
       "     MSA  Mortage Percentage %  Number of Units Occupancy Status  \\\n",
       "0  38060                     0                1                S   \n",
       "1  38060                     0                1                S   \n",
       "2  38060                     0                1                S   \n",
       "3  38060                     0                1                S   \n",
       "4  38060                     0                1                S   \n",
       "\n",
       "   Original Combined LTV  Original DTI  ...  Miscellaneous Expenses  \\\n",
       "0                     75            29  ...                     NaN   \n",
       "1                     75            29  ...                     NaN   \n",
       "2                     75            29  ...                     NaN   \n",
       "3                     75            29  ...                     NaN   \n",
       "4                     75            29  ...                     NaN   \n",
       "\n",
       "   Actual Loss Calculation  Modification Cost Step Modification Flag  \\\n",
       "0                      NaN                NaN                    NaN   \n",
       "1                      NaN                NaN                    NaN   \n",
       "2                      NaN                NaN                    NaN   \n",
       "3                      NaN                NaN                    NaN   \n",
       "4                      NaN                NaN                    NaN   \n",
       "\n",
       "  Deferred Payment Plan Estimated Loan to Value(ELTV)  \\\n",
       "0                   NaN                           NaN   \n",
       "1                   NaN                           NaN   \n",
       "2                   NaN                           NaN   \n",
       "3                   NaN                           NaN   \n",
       "4                   NaN                           NaN   \n",
       "\n",
       "  Zero Balance Removal UPB Delinquent Accrued Interest  \\\n",
       "0                      NaN                         NaN   \n",
       "1                      NaN                         NaN   \n",
       "2                      NaN                         NaN   \n",
       "3                      NaN                         NaN   \n",
       "4                      NaN                         NaN   \n",
       "\n",
       "  Delinquency Due to Disaster Borrower Assistance Status Code  \n",
       "0                         NaN                             NaN  \n",
       "1                         NaN                             NaN  \n",
       "2                         NaN                             NaN  \n",
       "3                         NaN                             NaN  \n",
       "4                         NaN                             NaN  \n",
       "\n",
       "[5 rows x 59 columns]"
      ]
     },
     "execution_count": 8,
     "metadata": {},
     "output_type": "execute_result"
    }
   ],
   "source": [
    "loan_perf_2016.head()"
   ]
  },
  {
   "cell_type": "code",
   "execution_count": 7,
   "metadata": {},
   "outputs": [
    {
     "name": "stdout",
     "output_type": "stream",
     "text": [
      "reading ./freddie_mac/historical_data1_time_Q12017.txt\n"
     ]
    },
    {
     "name": "stderr",
     "output_type": "stream",
     "text": [
      "/Users/chitrasharathchandra/opt/anaconda3/lib/python3.8/site-packages/IPython/core/interactiveshell.py:3338: DtypeWarning: Columns (3,7,23,24) have mixed types.Specify dtype option on import or set low_memory=False.\n",
      "  if (await self.run_code(code, result,  async_=asy)):\n"
     ]
    },
    {
     "name": "stdout",
     "output_type": "stream",
     "text": [
      "reading ./freddie_mac/historical_data1_time_Q22017.txt\n",
      "reading ./freddie_mac/historical_data1_time_Q32017.txt\n"
     ]
    },
    {
     "name": "stderr",
     "output_type": "stream",
     "text": [
      "/Users/chitrasharathchandra/opt/anaconda3/lib/python3.8/site-packages/IPython/core/interactiveshell.py:3338: DtypeWarning: Columns (3,7,23,24,28,29) have mixed types.Specify dtype option on import or set low_memory=False.\n",
      "  if (await self.run_code(code, result,  async_=asy)):\n"
     ]
    },
    {
     "name": "stdout",
     "output_type": "stream",
     "text": [
      "reading ./freddie_mac/historical_data1_time_Q42017.txt\n"
     ]
    }
   ],
   "source": [
    "freddiemac_loan_performance_2017=pd.concat([read_file(\"./freddie_mac/historical_data1_time_Q12017.txt\"),\n",
    "                                              read_file(\"./freddie_mac/historical_data1_time_Q22017.txt\"),\n",
    "                                              read_file(\"./freddie_mac/historical_data1_time_Q32017.txt\"),\n",
    "                                              read_file(\"./freddie_mac/historical_data1_time_Q42017.txt\")])\n",
    "freddiemac_loan_performance_2017.columns=freddiemac_loan_performance_dataset_columns\n",
    "\n",
    "loan_perf_2017=pd.merge(loanDataDF,freddiemac_loan_performance_2017,on=\"Loan Sequence Number\" )\n",
    "loan_perf_2017[\"Postal Code\"]=loan_perf_2017[\"Postal Code\"].astype(int).astype(str)\n",
    "\n",
    "freddiemac_loan_performance_2017=pd.DataFrame()\n",
    "gc.collect()\n",
    "loan_perf_2017.to_csv(\"loan_perf_2017.csv\")"
   ]
  },
  {
   "cell_type": "code",
   "execution_count": 7,
   "metadata": {},
   "outputs": [
    {
     "name": "stdout",
     "output_type": "stream",
     "text": [
      "reading ./freddie_mac/historical_data1_time_Q12018.txt\n"
     ]
    },
    {
     "name": "stderr",
     "output_type": "stream",
     "text": [
      "/Users/chitrasharathchandra/opt/anaconda3/lib/python3.8/site-packages/IPython/core/interactiveshell.py:3338: DtypeWarning: Columns (3,7,23,24) have mixed types.Specify dtype option on import or set low_memory=False.\n",
      "  if (await self.run_code(code, result,  async_=asy)):\n"
     ]
    },
    {
     "name": "stdout",
     "output_type": "stream",
     "text": [
      "reading ./freddie_mac/historical_data1_time_Q22018.txt\n",
      "reading ./freddie_mac/historical_data1_time_Q32018.txt\n",
      "reading ./freddie_mac/historical_data1_time_Q42018.txt\n"
     ]
    },
    {
     "name": "stderr",
     "output_type": "stream",
     "text": [
      "/Users/chitrasharathchandra/opt/anaconda3/lib/python3.8/site-packages/IPython/core/interactiveshell.py:3338: DtypeWarning: Columns (3,7,23) have mixed types.Specify dtype option on import or set low_memory=False.\n",
      "  if (await self.run_code(code, result,  async_=asy)):\n"
     ]
    }
   ],
   "source": [
    "freddiemac_loan_performance_2018=pd.concat([read_file(\"./freddie_mac/historical_data1_time_Q12018.txt\"),\n",
    "                                              read_file(\"./freddie_mac/historical_data1_time_Q22018.txt\"),\n",
    "                                              read_file(\"./freddie_mac/historical_data1_time_Q32018.txt\"),\n",
    "                                              read_file(\"./freddie_mac/historical_data1_time_Q42018.txt\")])\n",
    "freddiemac_loan_performance_2018.columns=freddiemac_loan_performance_dataset_columns\n",
    "\n",
    "#for each City\n",
    "loan_perf_2018=pd.merge(loanDataDF,freddiemac_loan_performance_2018,on=\"Loan Sequence Number\" )\n",
    "loan_perf_2018[\"Postal Code\"]=loan_perf_2018[\"Postal Code\"].astype(int).astype(str)\n",
    "\n",
    "freddiemac_loan_performance_2018=pd.DataFrame()\n",
    "gc.collect()\n",
    "loan_perf_2018.to_csv(\"loan_perf_2018.csv\")"
   ]
  },
  {
   "cell_type": "code",
   "execution_count": 8,
   "metadata": {},
   "outputs": [
    {
     "name": "stdout",
     "output_type": "stream",
     "text": [
      "reading ./freddie_mac/historical_data1_time_Q12019.txt\n",
      "reading ./freddie_mac/historical_data1_time_Q22019.txt\n",
      "reading ./freddie_mac/historical_data1_time_Q32019.txt\n",
      "reading ./freddie_mac/historical_data1_time_Q42019.txt\n"
     ]
    },
    {
     "name": "stderr",
     "output_type": "stream",
     "text": [
      "/Users/chitrasharathchandra/opt/anaconda3/lib/python3.8/site-packages/IPython/core/interactiveshell.py:3338: DtypeWarning: Columns (7,23) have mixed types.Specify dtype option on import or set low_memory=False.\n",
      "  if (await self.run_code(code, result,  async_=asy)):\n"
     ]
    }
   ],
   "source": [
    "freddiemac_loan_performance_2019=pd.concat([read_file(\"./freddie_mac/historical_data1_time_Q12019.txt\"),\n",
    "                                              read_file(\"./freddie_mac/historical_data1_time_Q22019.txt\"),\n",
    "                                              read_file(\"./freddie_mac/historical_data1_time_Q32019.txt\"),\n",
    "                                              read_file(\"./freddie_mac/historical_data1_time_Q42019.txt\")])\n",
    "freddiemac_loan_performance_2019.columns=freddiemac_loan_performance_dataset_columns\n",
    "\n",
    "#for each City\n",
    "loan_perf_2019=pd.merge(loanDataDF,freddiemac_loan_performance_2019,on=\"Loan Sequence Number\" )\n",
    "loan_perf_2019[\"Postal Code\"]=loan_perf_2019[\"Postal Code\"].astype(int).astype(str)\n",
    "\n",
    "freddiemac_loan_performance_2019=pd.DataFrame()\n",
    "gc.collect()\n",
    "loan_perf_2019.to_csv(\"loan_perf_2019.csv\")"
   ]
  },
  {
   "cell_type": "code",
   "execution_count": null,
   "metadata": {},
   "outputs": [],
   "source": [
    "city_loans=pd.concat([\n",
    "   loan_perf_2015,\n",
    "   loan_perf_2016,\n",
    "   loan_perf_2017,\n",
    "   loan_perf_2018,\n",
    "    loan_perf_2019\n",
    "])\n",
    "\n",
    "city_loans.to_csv(\"loan_perf_data.csv\")"
   ]
  }
 ],
 "metadata": {
  "kernelspec": {
   "display_name": "Python 3",
   "language": "python",
   "name": "python3"
  },
  "language_info": {
   "codemirror_mode": {
    "name": "ipython",
    "version": 3
   },
   "file_extension": ".py",
   "mimetype": "text/x-python",
   "name": "python",
   "nbconvert_exporter": "python",
   "pygments_lexer": "ipython3",
   "version": "3.8.5"
  }
 },
 "nbformat": 4,
 "nbformat_minor": 4
}
